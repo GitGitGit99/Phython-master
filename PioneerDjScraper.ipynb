{
 "cells": [
  {
   "cell_type": "code",
   "execution_count": null,
   "metadata": {},
   "outputs": [],
   "source": [
    "######################################################################################  \n",
    "#Filename:           PioneerDJScraper.py\n",
    "#Version:            1.0\n",
    "#Author:             Adam Rehman\n",
    "#Creation Date:      December 10 2021\n",
    "#Purpose:            This script will be used to gather stock and price Information from various websites in regards to the Pioneer DDJ 1000 controller. Due to the global semiconductor shortage, \n",
    "#                    it has become almost impossible to find a shop which has any in stock. This script, once run, will fetch data and import it onto a CSV  file, from where i will be able view the data.\n",
    "#Dependencies:       pip install beautifulsoup4, pip install requests                \n",
    "#####################################################################################"
   ]
  },
  {
   "cell_type": "code",
   "execution_count": 5,
   "metadata": {},
   "outputs": [],
   "source": [
    "# Step 1 - Import Beautiful Soup via the Terminal using the following command: pip install beautifulsoup4\n",
    "# pip install beautifulsoup4 gave an error as pip was not installed on my system\n",
    "# pip was downloaded using: curl https://bootstrap.pypa.io/get-pip.py -o get-pip.py and then python3 get-pip.py\n",
    "# pip install beautiful soup was now executed successfully "
   ]
  },
  {
   "cell_type": "code",
   "execution_count": 3,
   "metadata": {},
   "outputs": [
    {
     "name": "stdout",
     "output_type": "stream",
     "text": [
      "[<span class=\"price\">€135.00</span>, <span class=\"cs-buybox__stock-text\">Out of stock</span>]\n"
     ]
    }
   ],
   "source": [
    "# Import BeautifulSoup Python libary. BeautifulSoup allows us to work with HTML and display the data in various formats such as CSV\n",
    "from bs4 import BeautifulSoup\n",
    "\n",
    "# Run the following command in the terminal to install the requests libary: 'pip install requests'\n",
    "# Requests enables the fetching of HTML and allows you to view the html status code, used for troubleshooting\n",
    " \n",
    "import requests\n",
    "\n",
    "# Creating a vairable to fetch the HTML from my desired website \n",
    "\n",
    "tamsta = requests.get('https://www.tamsta.com/en/dj-controller-pioneer-ddj-1000')\n",
    "\n",
    "# Using soup to get content of webpage and then asking beautiful soup to parse the data into html from string\n",
    "\n",
    "soup = BeautifulSoup(tamsta.content, 'html.parser' )\n",
    "\n",
    "# Using the lists variable to get a specific part of the webpage im interested in. To get the desired secion, the page was inspected within Chrome. The information required is located within the following section of the website'cs-buybox__section'. Class with an underscore was used so Python doesnt confuse with a python class. \n",
    "\n",
    "\n",
    "lists = soup.find_all('section', class_='cs-buybox__section')\n",
    "\n",
    "# Searching for price of item and avialability \n",
    "\n",
    "price = soup.find('span', class_=\"price\")\n",
    "instock = soup.find('span', class_=\"cs-buybox__stock-text\")\n",
    "\n",
    "\n",
    "info = [price,instock]\n",
    "print(info)"
   ]
  },
  {
   "cell_type": "code",
   "execution_count": null,
   "metadata": {},
   "outputs": [],
   "source": [
    "gear4music = requests.get(\"https://www.gear4music.com/PA-DJ-and-Lighting/Pioneer-DJ-DDJ-1000-Rekordbox-DJ-Controller/2ACE\")"
   ]
  }
 ],
 "metadata": {
  "interpreter": {
   "hash": "aee8b7b246df8f9039afb4144a1f6fd8d2ca17a180786b69acc140d282b71a49"
  },
  "kernelspec": {
   "display_name": "Python 3.9.7 64-bit",
   "language": "python",
   "name": "python3"
  },
  "language_info": {
   "codemirror_mode": {
    "name": "ipython",
    "version": 3
   },
   "file_extension": ".py",
   "mimetype": "text/x-python",
   "name": "python",
   "nbconvert_exporter": "python",
   "pygments_lexer": "ipython3",
   "version": "3.9.7"
  },
  "orig_nbformat": 4
 },
 "nbformat": 4,
 "nbformat_minor": 2
}
