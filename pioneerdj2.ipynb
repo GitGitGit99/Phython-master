{
 "cells": [
  {
   "cell_type": "code",
   "execution_count": 10,
   "metadata": {},
   "outputs": [],
   "source": [
    "from bs4 import BeautifulSoup #import beautiful soup\n",
    "\n",
    "import requests #import requests"
   ]
  },
  {
   "cell_type": "code",
   "execution_count": 12,
   "metadata": {},
   "outputs": [
    {
     "name": "stdout",
     "output_type": "stream",
     "text": [
      "[<span class=\"price\">€135.00</span>, <span class=\"cs-buybox__stock-text\">Out of stock</span>]\n"
     ]
    }
   ],
   "source": [
    "# Creating a response vairable to fetch the HTML from my desired website \n",
    "\n",
    "tamsta = requests.get('https://www.tamsta.com/en/dj-controller-pioneer-ddj-1000')\n",
    "\n",
    "# get content of webpage and ask beautiful soup to parse the data into html from string\n",
    "\n",
    "soup = BeautifulSoup(tamsta.content, 'html.parser' )\n",
    "\n",
    "# using beautiful soup to get a specific part of the webpage im interested in. To get the desired secion, the page was inspected within Chrome. The information i wanted was found within the following section of the website'cs-buybox__section'. Class with an underscore was used so Python doesnt confuse with a python class. \n",
    "\n",
    "\n",
    "lists = soup.find_all('section', class_='cs-buybox__section')\n",
    "\n",
    "# Searching for price of item and avialability \n",
    "\n",
    "price = soup.find('span', class_=\"price\")\n",
    "instock = soup.find('span', class_=\"cs-buybox__stock-text\")\n",
    "\n",
    "\n",
    "info = [price,instock]\n",
    "print(info)"
   ]
  }
 ],
 "metadata": {
  "interpreter": {
   "hash": "aee8b7b246df8f9039afb4144a1f6fd8d2ca17a180786b69acc140d282b71a49"
  },
  "kernelspec": {
   "display_name": "Python 3.9.7 64-bit",
   "language": "python",
   "name": "python3"
  },
  "language_info": {
   "codemirror_mode": {
    "name": "ipython",
    "version": 3
   },
   "file_extension": ".py",
   "mimetype": "text/x-python",
   "name": "python",
   "nbconvert_exporter": "python",
   "pygments_lexer": "ipython3",
   "version": "3.9.7"
  },
  "orig_nbformat": 4
 },
 "nbformat": 4,
 "nbformat_minor": 2
}
