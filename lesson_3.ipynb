{
 "cells": [
  {
   "cell_type": "code",
   "execution_count": 7,
   "metadata": {},
   "outputs": [
    {
     "name": "stdout",
     "output_type": "stream",
     "text": [
      "57600000384000\n"
     ]
    }
   ],
   "source": [
    "moon = 384000\n",
    "Sun =  150000000\n",
    "total = moon + moon*Sun\n",
    "print (total)"
   ]
  },
  {
   "cell_type": "code",
   "execution_count": 1,
   "metadata": {},
   "outputs": [
    {
     "name": "stdout",
     "output_type": "stream",
     "text": [
      "<class 'int'>\n",
      "<class 'float'>\n"
     ]
    }
   ],
   "source": [
    "my_int = 6\n",
    "my_float =6. \n",
    "\n",
    "print (type(my_int) )\n",
    "print (type(my_float))"
   ]
  },
  {
   "cell_type": "code",
   "execution_count": 2,
   "metadata": {},
   "outputs": [
    {
     "data": {
      "text/plain": [
       "12"
      ]
     },
     "execution_count": 2,
     "metadata": {},
     "output_type": "execute_result"
    }
   ],
   "source": [
    "3+ 9"
   ]
  },
  {
   "cell_type": "code",
   "execution_count": 5,
   "metadata": {},
   "outputs": [
    {
     "name": "stdout",
     "output_type": "stream",
     "text": [
      "203\n",
      "3.000000003e-09\n",
      "27\n"
     ]
    }
   ],
   "source": [
    "print (3 +200)\n",
    "print ( 3 / 999999999)\n",
    "print (3*9)"
   ]
  },
  {
   "cell_type": "code",
   "execution_count": 6,
   "metadata": {},
   "outputs": [
    {
     "data": {
      "text/plain": [
       "390.625"
      ]
     },
     "execution_count": 6,
     "metadata": {},
     "output_type": "execute_result"
    }
   ],
   "source": [
    "dist_moon = 384000\n",
    "dist_sun = 150000000\n",
    "dist_sun / dist_moon"
   ]
  },
  {
   "cell_type": "code",
   "execution_count": 12,
   "metadata": {},
   "outputs": [
    {
     "name": "stdout",
     "output_type": "stream",
     "text": [
      "secondsto the moon 9216000.0\n",
      "hours to the moon 2560.0\n",
      "days to the moon 106.66666666666667\n",
      "months to the moon 3.555555555555556\n",
      "years to the moon 0.29629629629629634\n"
     ]
    }
   ],
   "source": [
    "speed = 150\n",
    "print (f'secondsto the moon {dist_moon/speed*3600}')\n",
    "print (f'hours to the moon {dist_moon/speed}')\n",
    "print (f'days to the moon {dist_moon/speed/24}')\n",
    "print (f'months to the moon {dist_moon/speed/24/30}')\n",
    "print (f'years to the moon {dist_moon/speed/24/30/12}')\n",
    "\n"
   ]
  }
 ],
 "metadata": {
  "interpreter": {
   "hash": "aee8b7b246df8f9039afb4144a1f6fd8d2ca17a180786b69acc140d282b71a49"
  },
  "kernelspec": {
   "display_name": "Python 3.9.7 64-bit",
   "language": "python",
   "name": "python3"
  },
  "language_info": {
   "codemirror_mode": {
    "name": "ipython",
    "version": 3
   },
   "file_extension": ".py",
   "mimetype": "text/x-python",
   "name": "python",
   "nbconvert_exporter": "python",
   "pygments_lexer": "ipython3",
   "version": "3.9.7"
  },
  "orig_nbformat": 4
 },
 "nbformat": 4,
 "nbformat_minor": 2
}
